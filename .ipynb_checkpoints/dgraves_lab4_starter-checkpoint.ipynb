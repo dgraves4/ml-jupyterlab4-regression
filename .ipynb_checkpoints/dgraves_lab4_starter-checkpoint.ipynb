{
 "cells": [
  {
   "cell_type": "markdown",
   "metadata": {},
   "source": [
    "### Derek Graves\n",
    "### 07/16/2024\n",
    "### Lab 4: Buliding a Regression Model "
   ]
  },
  {
   "cell_type": "markdown",
   "metadata": {},
   "source": [
    "# Lab 4 – Doing regression.\n",
    "Here is what we will do:\n",
    "1. Prepare the data\n",
    "2. Train and analyze a linear regression\n",
    "- single input feature\n",
    "- multiple input features\n",
    "3. Train and analyze a polynomial regression\n",
    "4. Train and analyze a regularized model"
   ]
  },
  {
   "cell_type": "markdown",
   "metadata": {},
   "source": [
    "### Prepare the data"
   ]
  },
  {
   "cell_type": "code",
   "execution_count": 25,
   "metadata": {},
   "outputs": [
    {
     "data": {
      "text/plain": [
       "bmi class\n",
       "Underweight    341\n",
       "Normal         202\n",
       "Overweight       1\n",
       "Name: count, dtype: int64"
      ]
     },
     "execution_count": 25,
     "metadata": {},
     "output_type": "execute_result"
    }
   ],
   "source": [
    "# third cell -\n",
    "import pandas as pd\n",
    "import numpy as np\n",
    "\n",
    "howell_full = pd.read_csv(\"Howell.csv\", sep=\";\")\n",
    "\n",
    "# Compute bmi based on height and weight metric units\n",
    "def bmi(height, weight):\n",
    "    return 10000*weight/(height**2)\n",
    "\n",
    "new_feature= bmi(howell_full['height'], howell_full['weight'])\n",
    "howell_full['bmi'] = new_feature\n",
    "howell_full.head(n=10)\n",
    "\n",
    "def bmi_category(bmi):\n",
    "    # bmi can only be a single value\n",
    "    if bmi < 18.5: return 'Underweight'\n",
    "    if bmi < 25.0: return 'Normal'\n",
    "    if bmi < 30.0: return 'Overweight'\n",
    "    return 'Obese'\n",
    "    \n",
    "vector_bmi_category = np.vectorize(bmi_category)\n",
    "howell_full['bmi class'] = vector_bmi_category(howell_full['bmi'])\n",
    "\n",
    "howell_full['bmi class'].value_counts()"
   ]
  },
  {
   "cell_type": "markdown",
   "metadata": {},
   "source": [
    "### A Better Plot"
   ]
  },
  {
   "cell_type": "code",
   "execution_count": 26,
   "metadata": {},
   "outputs": [
    {
     "data": {
      "image/png": "[encoded data removed]",
      "text/plain": [
       "<Figure size 640x480 with 1 Axes>"
      ]
     },
     "metadata": {},
     "output_type": "display_data"
    }
   ],
   "source": [
    "import matplotlib.pyplot as plt\n",
    "\n",
    "height = howell_full['height']\n",
    "age = howell_full['age']\n",
    "gender = howell_full['male']\n",
    "\n",
    "#plt.scatter(age, height, c=gender)\n",
    "plt.xlabel('age')\n",
    "#plt.ylabel('height(cm)')\n",
    "plt.show()"
   ]
  },
  {
   "cell_type": "markdown",
   "metadata": {},
   "source": [
    "### Train/Test Data Split"
   ]
  },
  {
   "cell_type": "code",
   "execution_count": 27,
   "metadata": {},
   "outputs": [
    {
     "name": "stdout",
     "output_type": "stream",
     "text": [
      "Train size:  435 Test size:  109\n"
     ]
    }
   ],
   "source": [
    "from sklearn.model_selection import train_test_split\n",
    "\n",
    "train_set, test_set = train_test_split (howell_full, test_size=0.2, random_state=123)\n",
    "\n",
    "print('Train size: ', len(train_set), 'Test size: ', len(test_set))\n",
    "\n",
    "# Count male and female in each DataFrame\n",
    "adult_counts = howell_full['male'].value_counts()\n",
    "train_counts = train_set['male'].value_counts()\n",
    "test_counts = test_set['male'].value_counts()\n",
    "\n",
    "# Compute ratios\n",
    "adult_ratio = adult_counts[1] / adult_counts[0]\n",
    "train_ratio = train_counts[1] / train_counts[0]\n",
    "test_ratio = test_counts[1] / test_counts[0]\n"
   ]
  },
  {
   "cell_type": "markdown",
   "metadata": {},
   "source": [
    "### Train and evaluate a Linear Regression Model \n"
   ]
  },
  {
   "cell_type": "code",
   "execution_count": null,
   "metadata": {},
   "outputs": [],
   "source": [
    "from sklearn.linear_model import LinearRegression\n",
    "from sklearn.metrics import mean_absolute_error\n",
    "from sklearn.metrics import mean_squared_error\n",
    "from sklearn.metrics import r2_score\n",
    "\n",
    "X = train_set[['height']]\n",
    "y = train_set['weight']\n",
    "\n",
    "X_test = test_set[['height']]\n",
    "y_test = test_set['weight']\n",
    "\n",
    "lr_model = LinearRegression()\n",
    "lr_model.fit(X,y)\n"
   ]
  }
 ],
 "metadata": {
  "kernelspec": {
   "display_name": "Python 3 (ipykernel)",
   "language": "python",
   "name": "python3"
  },
  "language_info": {
   "codemirror_mode": {
    "name": "ipython",
    "version": 3
   },
   "file_extension": ".py",
   "mimetype": "text/x-python",
   "name": "python",
   "nbconvert_exporter": "python",
   "pygments_lexer": "ipython3",
   "version": "3.12.2"
  }
 },
 "nbformat": 4,
 "nbformat_minor": 4
}
